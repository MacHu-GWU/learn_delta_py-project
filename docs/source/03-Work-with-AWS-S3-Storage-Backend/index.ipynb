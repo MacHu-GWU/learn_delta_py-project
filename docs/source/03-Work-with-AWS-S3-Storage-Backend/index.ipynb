{
 "cells": [
  {
   "cell_type": "raw",
   "id": "1eaadfa6-fa06-41a8-9030-44765fd52598",
   "metadata": {
    "editable": true,
    "raw_mimetype": "text/restructuredtext",
    "slideshow": {
     "slide_type": ""
    },
    "tags": []
   },
   "source": [
    ".. _work-with-aws-s3-storage-backend:\n",
    "\n",
    "Work with AWS S3 Storage Backend\n",
    "==============================================================================\n",
    "Data engineers and analysts are constantly seeking efficient ways to handle large datasets in cloud environments. This tutorial introduces a powerful combination: Delta Lake, Polars, and AWS S3. We'll demonstrate how to leverage these tools to create a robust, scalable data pipeline.\n",
    "Delta Lake, an open-source storage layer, brings ACID transactions and increased reliability to your data lakes. Polars, a lightning-fast DataFrame library written in Rust, offers exceptional performance for data manipulation. By integrating these with AWS S3, we create a flexible and cost-effective storage solution.\n",
    "\n",
    "In this Jupyter notebook, we'll walk through:\n",
    "\n",
    "1. Setting up the environment\n",
    "2. Connecting to AWS S3\n",
    "3. Using Polars to prepare and transform data\n",
    "4. Writing data to Delta Lake format on S3\n",
    "5. Reading and querying Delta Lake tables\n",
    "\n",
    "Reference:\n",
    "\n",
    "- `polars.read_delta <https://docs.pola.rs/api/python/stable/reference/api/polars.read_delta.html>`_\n",
    "- `polars.DataFrame.write_delta <https://docs.pola.rs/api/python/stable/reference/api/polars.DataFrame.write_delta.html>`_\n",
    "- `delta_write_options <https://delta-io.github.io/delta-rs/api/delta_writer/#deltalake.write_deltalake>`_\n",
    "- `delta_merge_options <https://delta-io.github.io/delta-rs/api/delta_table/#deltalake.DeltaTable.load_with_datetime>`_\n",
    "- `aws s3 storage options <https://docs.rs/object_store/latest/object_store/aws/enum.AmazonS3ConfigKey.html#variants>`_\n",
    "- `deltalake on s3 <https://delta.io/blog/delta-lake-s3/>`_"
   ]
  },
  {
   "cell_type": "markdown",
   "id": "e2a7865da090a6ff",
   "metadata": {
    "collapsed": false,
    "editable": true,
    "jupyter": {
     "outputs_hidden": false
    },
    "slideshow": {
     "slide_type": ""
    },
    "tags": []
   },
   "source": [
    "## Import Python Libraries"
   ]
  },
  {
   "cell_type": "code",
   "execution_count": 1,
   "id": "1623676d1f5f08f7",
   "metadata": {
    "ExecuteTime": {
     "end_time": "2024-08-05T14:05:43.739883Z",
     "start_time": "2024-08-05T14:05:43.327408Z"
    },
    "collapsed": false,
    "editable": true,
    "jupyter": {
     "outputs_hidden": false
    },
    "slideshow": {
     "slide_type": ""
    },
    "tags": []
   },
   "outputs": [
    {
     "name": "stdout",
     "output_type": "stream",
     "text": [
      "Requirement already satisfied: deltalake<1.0.0,>=0.18.2 in /Users/sanhehu/Documents/GitHub/learn_delta_py-project/.venv/lib/python3.10/site-packages (from -r requirements.txt (line 1)) (0.18.2)\n",
      "Requirement already satisfied: polars<2.0.0,>=1.2.1 in /Users/sanhehu/Documents/GitHub/learn_delta_py-project/.venv/lib/python3.10/site-packages (from -r requirements.txt (line 2)) (1.4.1)\n",
      "Requirement already satisfied: boto_session_manager<2.0.0,>=1.7.2 in /Users/sanhehu/Documents/GitHub/learn_delta_py-project/.venv/lib/python3.10/site-packages (from -r requirements.txt (line 3)) (1.7.2)\n",
      "Requirement already satisfied: s3pathlib<3.0.0,>=2.1.2 in /Users/sanhehu/Documents/GitHub/learn_delta_py-project/.venv/lib/python3.10/site-packages (from -r requirements.txt (line 4)) (2.1.2)\n",
      "Requirement already satisfied: pyarrow>=8 in /Users/sanhehu/Documents/GitHub/learn_delta_py-project/.venv/lib/python3.10/site-packages (from deltalake<1.0.0,>=0.18.2->-r requirements.txt (line 1)) (17.0.0)\n",
      "Requirement already satisfied: pyarrow-hotfix in /Users/sanhehu/Documents/GitHub/learn_delta_py-project/.venv/lib/python3.10/site-packages (from deltalake<1.0.0,>=0.18.2->-r requirements.txt (line 1)) (0.6)\n",
      "Requirement already satisfied: boto3 in /Users/sanhehu/Documents/GitHub/learn_delta_py-project/.venv/lib/python3.10/site-packages (from boto_session_manager<2.0.0,>=1.7.2->-r requirements.txt (line 3)) (1.34.153)\n",
      "Requirement already satisfied: iterproxy in /Users/sanhehu/Documents/GitHub/learn_delta_py-project/.venv/lib/python3.10/site-packages (from s3pathlib<3.0.0,>=2.1.2->-r requirements.txt (line 4)) (0.3.1)\n",
      "Requirement already satisfied: func-args in /Users/sanhehu/Documents/GitHub/learn_delta_py-project/.venv/lib/python3.10/site-packages (from s3pathlib<3.0.0,>=2.1.2->-r requirements.txt (line 4)) (0.1.1)\n",
      "Requirement already satisfied: pathlib-mate<2.0.0,>=1.0.1 in /Users/sanhehu/Documents/GitHub/learn_delta_py-project/.venv/lib/python3.10/site-packages (from s3pathlib<3.0.0,>=2.1.2->-r requirements.txt (line 4)) (1.3.2)\n",
      "Requirement already satisfied: smart-open<7.0.0,>=5.1.0 in /Users/sanhehu/Documents/GitHub/learn_delta_py-project/.venv/lib/python3.10/site-packages (from s3pathlib<3.0.0,>=2.1.2->-r requirements.txt (line 4)) (6.4.0)\n",
      "Requirement already satisfied: numpy>=1.16.6 in /Users/sanhehu/Documents/GitHub/learn_delta_py-project/.venv/lib/python3.10/site-packages (from pyarrow>=8->deltalake<1.0.0,>=0.18.2->-r requirements.txt (line 1)) (2.0.1)\n",
      "Requirement already satisfied: botocore<1.35.0,>=1.34.153 in /Users/sanhehu/Documents/GitHub/learn_delta_py-project/.venv/lib/python3.10/site-packages (from boto3->boto_session_manager<2.0.0,>=1.7.2->-r requirements.txt (line 3)) (1.34.153)\n",
      "Requirement already satisfied: jmespath<2.0.0,>=0.7.1 in /Users/sanhehu/Documents/GitHub/learn_delta_py-project/.venv/lib/python3.10/site-packages (from boto3->boto_session_manager<2.0.0,>=1.7.2->-r requirements.txt (line 3)) (1.0.1)\n",
      "Requirement already satisfied: s3transfer<0.11.0,>=0.10.0 in /Users/sanhehu/Documents/GitHub/learn_delta_py-project/.venv/lib/python3.10/site-packages (from boto3->boto_session_manager<2.0.0,>=1.7.2->-r requirements.txt (line 3)) (0.10.2)\n",
      "Requirement already satisfied: python-dateutil<3.0.0,>=2.1 in /Users/sanhehu/Documents/GitHub/learn_delta_py-project/.venv/lib/python3.10/site-packages (from botocore<1.35.0,>=1.34.153->boto3->boto_session_manager<2.0.0,>=1.7.2->-r requirements.txt (line 3)) (2.9.0.post0)\n",
      "Requirement already satisfied: urllib3!=2.2.0,<3,>=1.25.4 in /Users/sanhehu/Documents/GitHub/learn_delta_py-project/.venv/lib/python3.10/site-packages (from botocore<1.35.0,>=1.34.153->boto3->boto_session_manager<2.0.0,>=1.7.2->-r requirements.txt (line 3)) (2.2.2)\n",
      "Requirement already satisfied: six>=1.5 in /Users/sanhehu/Documents/GitHub/learn_delta_py-project/.venv/lib/python3.10/site-packages (from python-dateutil<3.0.0,>=2.1->botocore<1.35.0,>=1.34.153->boto3->boto_session_manager<2.0.0,>=1.7.2->-r requirements.txt (line 3)) (1.16.0)\n",
      "\n",
      "\u001b[1m[\u001b[0m\u001b[34;49mnotice\u001b[0m\u001b[1;39;49m]\u001b[0m\u001b[39;49m A new release of pip is available: \u001b[0m\u001b[31;49m24.1.2\u001b[0m\u001b[39;49m -> \u001b[0m\u001b[32;49m24.2\u001b[0m\n",
      "\u001b[1m[\u001b[0m\u001b[34;49mnotice\u001b[0m\u001b[1;39;49m]\u001b[0m\u001b[39;49m To update, run: \u001b[0m\u001b[32;49mpip install --upgrade pip\u001b[0m\n",
      "Note: you may need to restart the kernel to use updated packages.\n"
     ]
    }
   ],
   "source": [
    "%pip install -r requirements.txt"
   ]
  },
  {
   "cell_type": "code",
   "execution_count": 2,
   "id": "388f2cfb-9793-4f8a-8962-dbf8fbacb1ff",
   "metadata": {
    "ExecuteTime": {
     "end_time": "2024-08-05T14:31:11.857594Z",
     "start_time": "2024-08-05T14:31:11.821214Z"
    },
    "editable": true,
    "slideshow": {
     "slide_type": ""
    },
    "tags": []
   },
   "outputs": [],
   "source": [
    "import typing as T\n",
    "from datetime import datetime, timezone\n",
    "\n",
    "from boto_session_manager import BotoSesManager\n",
    "from s3pathlib import S3Path, context\n",
    "import polars as pl # dataframe manipulation\n",
    "from tabulate import tabulate # pretty print dataframe"
   ]
  },
  {
   "cell_type": "markdown",
   "id": "19c77f3e39fed804",
   "metadata": {
    "collapsed": false,
    "editable": true,
    "jupyter": {
     "outputs_hidden": false
    },
    "slideshow": {
     "slide_type": ""
    },
    "tags": []
   },
   "source": [
    "## Define S3 Storage Backend"
   ]
  },
  {
   "cell_type": "code",
   "execution_count": 3,
   "id": "6da2ad6998a9a1d5",
   "metadata": {
    "ExecuteTime": {
     "end_time": "2024-08-05T14:38:23.744314Z",
     "start_time": "2024-08-05T14:38:23.589616Z"
    },
    "collapsed": false,
    "editable": true,
    "jupyter": {
     "outputs_hidden": false
    },
    "slideshow": {
     "slide_type": ""
    },
    "tags": []
   },
   "outputs": [],
   "source": [
    "aws_profile = \"bmt_app_dev_us_east_1\"\n",
    "bsm = BotoSesManager(profile_name=aws_profile)\n",
    "context.attach_boto_session(boto_ses=bsm.boto_ses)\n",
    "credential = bsm.boto_ses.get_credentials()\n",
    "storage_options = {\n",
    "    \"AWS_REGION\": bsm.aws_region,\n",
    "    \"AWS_ACCESS_KEY_ID\": credential.access_key,\n",
    "    \"AWS_SECRET_ACCESS_KEY\": credential.secret_key,\n",
    "    \"AWS_S3_ALLOW_UNSAFE_RENAME\": \"true\",\n",
    "}\n",
    "if credential.token:\n",
    "    storage_options[\"AWS_SESSION_TOKEN\"] = credential.token\n",
    "\n",
    "bucket = f\"{bsm.aws_account_alias}-{bsm.aws_region}-data\"\n",
    "s3dir_db = S3Path(f\"s3://{bucket}/projects/learn_delta_py/mydb/\").to_dir()\n",
    "s3dir_t_account = (s3dir_db / \"accounts\").to_dir()\n",
    "\n",
    "def reset_db():\n",
    "    \"\"\"\n",
    "    Reset the database by deleting the entire database S3 folder.\n",
    "    \"\"\"\n",
    "    s3dir_db.delete()"
   ]
  },
  {
   "cell_type": "code",
   "execution_count": 4,
   "id": "867027b06247d946",
   "metadata": {
    "ExecuteTime": {
     "end_time": "2024-08-05T14:38:24.682143Z",
     "start_time": "2024-08-05T14:38:24.416870Z"
    },
    "collapsed": false,
    "editable": true,
    "jupyter": {
     "outputs_hidden": false
    },
    "slideshow": {
     "slide_type": ""
    },
    "tags": []
   },
   "outputs": [],
   "source": [
    "reset_db()"
   ]
  },
  {
   "cell_type": "markdown",
   "id": "2c81d740567e93de",
   "metadata": {
    "collapsed": false,
    "editable": true,
    "jupyter": {
     "outputs_hidden": false
    },
    "slideshow": {
     "slide_type": ""
    },
    "tags": []
   },
   "source": [
    "## Define Data Schema "
   ]
  },
  {
   "cell_type": "code",
   "execution_count": 5,
   "id": "5ffa48c155456a7d",
   "metadata": {
    "ExecuteTime": {
     "end_time": "2024-08-05T14:35:50.144855Z",
     "start_time": "2024-08-05T14:35:50.142864Z"
    },
    "collapsed": false,
    "editable": true,
    "jupyter": {
     "outputs_hidden": false
    },
    "slideshow": {
     "slide_type": ""
    },
    "tags": []
   },
   "outputs": [],
   "source": [
    "account_schema = {\n",
    "    \"account_id\": pl.Utf8(),\n",
    "    \"create_at\": pl.Datetime(),\n",
    "    \"update_at\": pl.Datetime(),\n",
    "    \"account_number\": pl.Utf8(),\n",
    "    \"account_type\": pl.Utf8(),\n",
    "    \"description\": pl.Utf8(),\n",
    "    # partition keys\n",
    "    \"year\": pl.Utf8(),\n",
    "    \"month\": pl.Utf8(),\n",
    "    \"day\": pl.Utf8(),\n",
    "}\n",
    "\n",
    "def add_partition_keys_for_accounts(rows: T.List[T.Dict]):\n",
    "    \"\"\"\n",
    "    Add partition keys based on create_at time.\n",
    "    \"\"\"\n",
    "    for row in rows:\n",
    "        row[\"year\"] = str(row[\"create_at\"].year)\n",
    "        row[\"month\"] = str(row[\"create_at\"].month).zfill(2)\n",
    "        row[\"day\"] = str(row[\"create_at\"].day).zfill(2)\n",
    "    return rows"
   ]
  },
  {
   "cell_type": "markdown",
   "id": "8f1d8bb34970e8d",
   "metadata": {
    "collapsed": false,
    "editable": true,
    "jupyter": {
     "outputs_hidden": false
    },
    "slideshow": {
     "slide_type": ""
    },
    "tags": []
   },
   "source": [
    "## Insert Two Rows "
   ]
  },
  {
   "cell_type": "code",
   "execution_count": 6,
   "id": "51077ce608cf4125",
   "metadata": {
    "ExecuteTime": {
     "end_time": "2024-08-05T14:38:28.836137Z",
     "start_time": "2024-08-05T14:38:27.765201Z"
    },
    "collapsed": false,
    "editable": true,
    "jupyter": {
     "outputs_hidden": false
    },
    "slideshow": {
     "slide_type": ""
    },
    "tags": []
   },
   "outputs": [],
   "source": [
    "def w1_create_accounts():\n",
    "    data = [\n",
    "        {\n",
    "            \"account_id\": \"acc-1\",\n",
    "            \"create_at\": datetime(2021, 1, 1, tzinfo=timezone.utc),\n",
    "            \"update_at\": datetime(2021, 1, 1, tzinfo=timezone.utc),\n",
    "            \"account_number\": \"1111-1111-1111\",\n",
    "            \"account_type\": \"checking\",\n",
    "            \"description\": \"Alice's Main checking account\",\n",
    "        },\n",
    "        {\n",
    "            \"account_id\": \"acc-2\",\n",
    "            \"create_at\": datetime(2021, 1, 2, tzinfo=timezone.utc),\n",
    "            \"update_at\": datetime(2021, 1, 2, tzinfo=timezone.utc),\n",
    "            \"account_number\": \"2222-2222-2222\",\n",
    "            \"account_type\": \"checking\",\n",
    "            \"description\": \"Bob's Main checking account\",\n",
    "        },\n",
    "    ]\n",
    "    df = pl.DataFrame(\n",
    "        add_partition_keys_for_accounts(data), \n",
    "        schema=account_schema,\n",
    "    )\n",
    "    df.write_delta(\n",
    "        s3dir_t_account.uri,\n",
    "        mode=\"append\",\n",
    "        delta_write_options=dict(\n",
    "            partition_by=[\"year\", \"month\", \"day\"],\n",
    "        ),\n",
    "        storage_options=storage_options,\n",
    "    )\n",
    "\n",
    "w1_create_accounts()"
   ]
  },
  {
   "cell_type": "markdown",
   "id": "8bf9113e1871e428",
   "metadata": {
    "collapsed": false,
    "editable": true,
    "jupyter": {
     "outputs_hidden": false
    },
    "slideshow": {
     "slide_type": ""
    },
    "tags": []
   },
   "source": [
    "Exam Results"
   ]
  },
  {
   "cell_type": "code",
   "execution_count": 7,
   "id": "cf3098ea65ae17ae",
   "metadata": {
    "ExecuteTime": {
     "end_time": "2024-08-05T14:38:57.456261Z",
     "start_time": "2024-08-05T14:38:57.100051Z"
    },
    "collapsed": false,
    "editable": true,
    "jupyter": {
     "outputs_hidden": false
    },
    "slideshow": {
     "slide_type": ""
    },
    "tags": []
   },
   "outputs": [
    {
     "name": "stdout",
     "output_type": "stream",
     "text": [
      "+--------------+---------------------+---------------------+------------------+----------------+-------------------------------+--------+---------+-------+\n",
      "| account_id   | create_at           | update_at           | account_number   | account_type   | description                   |   year |   month |   day |\n",
      "+==============+=====================+=====================+==================+================+===============================+========+=========+=======+\n",
      "| acc-1        | 2021-01-01 00:00:00 | 2021-01-01 00:00:00 | 1111-1111-1111   | checking       | Alice's Main checking account |   2021 |      01 |    01 |\n",
      "+--------------+---------------------+---------------------+------------------+----------------+-------------------------------+--------+---------+-------+\n",
      "| acc-2        | 2021-01-02 00:00:00 | 2021-01-02 00:00:00 | 2222-2222-2222   | checking       | Bob's Main checking account   |   2021 |      01 |    02 |\n",
      "+--------------+---------------------+---------------------+------------------+----------------+-------------------------------+--------+---------+-------+\n"
     ]
    }
   ],
   "source": [
    "def pprint_df(df: pl.DataFrame):\n",
    "    print(tabulate(df.to_dict(), headers=list(df.schema), tablefmt=\"grid\"))\n",
    "    \n",
    "\n",
    "def query_accounts():\n",
    "    df = pl.scan_delta(\n",
    "        s3dir_t_account.uri,\n",
    "        storage_options=storage_options,\n",
    "    ).sort(by=\"create_at\").collect()\n",
    "    pprint_df(df)\n",
    "    \n",
    "query_accounts()"
   ]
  },
  {
   "cell_type": "markdown",
   "id": "87ede4cf97a480b4",
   "metadata": {
    "collapsed": false,
    "editable": true,
    "jupyter": {
     "outputs_hidden": false
    },
    "slideshow": {
     "slide_type": ""
    },
    "tags": []
   },
   "source": [
    "## Do Upsert, Update 1 row, Insert 1 row"
   ]
  },
  {
   "cell_type": "code",
   "execution_count": 8,
   "id": "b596aa6bfbb5d6be",
   "metadata": {
    "ExecuteTime": {
     "end_time": "2024-08-05T14:39:27.109611Z",
     "start_time": "2024-08-05T14:39:26.290854Z"
    },
    "collapsed": false,
    "editable": true,
    "jupyter": {
     "outputs_hidden": false
    },
    "slideshow": {
     "slide_type": ""
    },
    "tags": []
   },
   "outputs": [],
   "source": [
    "def w2_update_accounts():\n",
    "    data = [\n",
    "        {\n",
    "            \"account_id\": \"acc-2\",\n",
    "            \"account_number\": \"2222-2222-2222\",\n",
    "            \"create_at\": datetime(2021, 1, 2, tzinfo=timezone.utc),\n",
    "            \"update_at\": datetime(2021, 1, 3, tzinfo=timezone.utc),\n",
    "            \"account_type\": \"checking\",\n",
    "            \"description\": \"Bob's Main checking account, updated\",\n",
    "        },\n",
    "        {\n",
    "            \"account_id\": \"acc-3\",\n",
    "            \"account_number\": \"3333-3333-3333\",\n",
    "            \"create_at\": datetime(2021, 1, 3, tzinfo=timezone.utc),\n",
    "            \"update_at\": datetime(2021, 1, 3, tzinfo=timezone.utc),\n",
    "            \"account_type\": \"saving\",\n",
    "            \"description\": \"Cathy's Main saving account\",\n",
    "        },\n",
    "    ]\n",
    "    df = pl.DataFrame(\n",
    "        add_partition_keys_for_accounts(data), \n",
    "        schema=account_schema,\n",
    "    )\n",
    "    table_merger = df.write_delta(\n",
    "        s3dir_t_account.uri,\n",
    "        mode=\"merge\",\n",
    "        delta_write_options=dict(\n",
    "            partition_by=[\"year\", \"month\", \"day\"],\n",
    "        ),\n",
    "        delta_merge_options=dict(\n",
    "            predicate=\"s.account_id = t.account_id\",\n",
    "            source_alias=\"s\",\n",
    "            target_alias=\"t\",\n",
    "        ),\n",
    "        storage_options=storage_options,\n",
    "    )\n",
    "    (\n",
    "        table_merger\n",
    "        .when_matched_update_all() # will do update\n",
    "        .when_not_matched_insert_all() # will do insert\n",
    "        .execute()\n",
    "    )\n",
    "\n",
    "w2_update_accounts()"
   ]
  },
  {
   "cell_type": "markdown",
   "id": "8e23ca92f9a5cd23",
   "metadata": {
    "collapsed": false,
    "editable": true,
    "jupyter": {
     "outputs_hidden": false
    },
    "slideshow": {
     "slide_type": ""
    },
    "tags": []
   },
   "source": [
    "Exam Result"
   ]
  },
  {
   "cell_type": "code",
   "execution_count": 9,
   "id": "38db6a71d9d9eff",
   "metadata": {
    "ExecuteTime": {
     "end_time": "2024-08-05T14:39:28.486909Z",
     "start_time": "2024-08-05T14:39:28.102346Z"
    },
    "collapsed": false,
    "editable": true,
    "jupyter": {
     "outputs_hidden": false
    },
    "slideshow": {
     "slide_type": ""
    },
    "tags": []
   },
   "outputs": [
    {
     "name": "stdout",
     "output_type": "stream",
     "text": [
      "+--------------+---------------------+---------------------+------------------+----------------+--------------------------------------+--------+---------+-------+\n",
      "| account_id   | create_at           | update_at           | account_number   | account_type   | description                          |   year |   month |   day |\n",
      "+==============+=====================+=====================+==================+================+======================================+========+=========+=======+\n",
      "| acc-1        | 2021-01-01 00:00:00 | 2021-01-01 00:00:00 | 1111-1111-1111   | checking       | Alice's Main checking account        |   2021 |      01 |    01 |\n",
      "+--------------+---------------------+---------------------+------------------+----------------+--------------------------------------+--------+---------+-------+\n",
      "| acc-2        | 2021-01-02 00:00:00 | 2021-01-03 00:00:00 | 2222-2222-2222   | checking       | Bob's Main checking account, updated |   2021 |      01 |    02 |\n",
      "+--------------+---------------------+---------------------+------------------+----------------+--------------------------------------+--------+---------+-------+\n",
      "| acc-3        | 2021-01-03 00:00:00 | 2021-01-03 00:00:00 | 3333-3333-3333   | saving         | Cathy's Main saving account          |   2021 |      01 |    03 |\n",
      "+--------------+---------------------+---------------------+------------------+----------------+--------------------------------------+--------+---------+-------+\n"
     ]
    }
   ],
   "source": [
    "query_accounts()"
   ]
  },
  {
   "cell_type": "code",
   "execution_count": null,
   "id": "e25514f0-8bf4-4834-98fe-75f16ac77a42",
   "metadata": {},
   "outputs": [],
   "source": []
  }
 ],
 "metadata": {
  "kernelspec": {
   "display_name": "Python 3 (ipykernel)",
   "language": "python",
   "name": "python3"
  },
  "language_info": {
   "codemirror_mode": {
    "name": "ipython",
    "version": 3
   },
   "file_extension": ".py",
   "mimetype": "text/x-python",
   "name": "python",
   "nbconvert_exporter": "python",
   "pygments_lexer": "ipython3",
   "version": "3.10.10"
  }
 },
 "nbformat": 4,
 "nbformat_minor": 5
}
